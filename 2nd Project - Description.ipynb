{
 "cells": [
  {
   "cell_type": "markdown",
   "metadata": {},
   "source": [
    "As a data analyst, your job is to analyze data to extract valuable information and make decisions based on it. This involves different stages, such as data overview, preprocessing and hypothesis testing.\n",
    "\n",
    "Hypotheses are assumptions made about a population based on a sample of data. These assumptions are tested using statistical methods to determine whether they are true or false. A hypothesis test consists of making a statement about the population, collecting data, and using statistical methods to test that statement.\n",
    "\n",
    "Whenever we conduct an analysis, we have to formulate hypotheses that we can then test. Sometimes we accept these hypotheses; sometimes we reject them. To make the right decisions, a company must be able to understand whether it is making the right assumptions.\n"
   ]
  },
  {
   "cell_type": "markdown",
   "metadata": {},
   "source": [
    "# Project Description \n",
    "In the context of this project, you will test hypotheses related to the music preferences of two cities. This will be done by analyzing actual online music streaming data to test the hypotheses below and compare the behavior of users in these two cities.\n",
    "\n",
    "This will involve analyzing actual online music streaming data to compare user behavior in Springfield and Shelbyville. The project is divided into three stages, each with specific objectives.\n",
    "\n",
    "In stage 1, you will provide an overview of the data and record your observations. In stage 2, you will preprocess the data by cleaning it. Finally, in stage 3, you will test the hypotheses by following the programming steps necessary to test each statement and commenting on your results in the appropriate blocks.\n",
    "\n",
    "By completing these stages, you will be able to extract valuable information from the data and make data-driven decisions.\n"
   ]
  },
  {
   "cell_type": "markdown",
   "metadata": {},
   "source": [
    "## Hypothesis \n",
    "For this project, we compiled the requirements and developed three hypotheses that must be confirmed or denied.\n",
    "\n",
    "When testing hypotheses, it is important to keep in mind that they can be fully accepted, partially accepted, partially rejected, or completely rejected.\n",
    "\n",
    "When a hypothesis is fully accepted, it means that the test results unambiguously support the statement made about the population.\n",
    "\n",
    "If it is only partially accepted, it means that the results support the statement to some extent, but not enough to accept it completely.\n",
    "\n",
    "Conversely, if a hypothesis is completely rejected, it means that the test results do not support the statement made about the population.\n",
    "\n",
    "Finally, a hypothesis can also be partially rejected if the data indicate that it is false, but you cannot reject it completely. When interpreting the results of a hypothesis test, it is important to keep these different possibilities in mind.\n",
    "\n",
    "Here are our hypotheses to accept or reject:\n",
    "\n",
    "User activity differs by day of the week and depending on the city.\n",
    "On Monday mornings, people in Springfield and Shelbyville listen to different genres. The same is true on Friday nights.\n",
    "Springfield and Shelbyville listeners have different preferences. In Springfield they prefer pop, while in Shelbyville more people like rap. "
   ]
  },
  {
   "cell_type": "markdown",
   "metadata": {},
   "source": [
    "## Dataset \n",
    "Column descriptions:\n",
    "\n",
    "1. ' userID' - uniquely identifies each user;\n",
    "2. 'track' - song title;\n",
    "3. 'artist' - artist name;\n",
    "4. 'genre' - genre of music;\n",
    "5. 'city' - user's city;\n",
    "6. 'time' - time of day when the track was played (HH:MM:SS);\n",
    "7. 'Day' - day of the week."
   ]
  },
  {
   "cell_type": "markdown",
   "metadata": {},
   "source": [
    "# Instructions to complete the project \n",
    "You are provided with a notebook template, where you can write your code and provide descriptions of your analysis. To complete the project, fill in each code cell in the template and edit the Markdown cells where the template asks you to explain your results.\n",
    "\n",
    "It is always a good practice to include an introduction that briefly describes your objectives and a conclusion that summarizes your results in the form of Markdown cells.\n",
    "\n",
    "Before we begin, let's review the three stages of the project one more time:\n",
    "\n",
    "Stage 1: Data description. The notebook has cells prepared with instructions on what kind of code to write, as well as text blocks where you can write down your observations.\n",
    "\n",
    "Stage 2: Data preprocessing. In this stage, you will clean the data by examining column names and addressing duplicate and missing values. Follow the structure provided in the workbook and be sure to record your observations at the end of this section.\n",
    "\n",
    "Stage 3: Hypothesis testing. This is the core of your project. Follow the programming steps necessary to test each statement and comment on your results in the appropriate blocks. Finally, summarize the results of the entire project in the “Conclusions” section.\n"
   ]
  },
  {
   "cell_type": "markdown",
   "metadata": {},
   "source": [
    "## Challenge \n",
    "In this project, we prepared a little challenge for you. We include a new type of data structure: timestamps. Timestamps are very common and deserve extra attention. Later in the program, you will learn a lot about them. However, for now we will treat them as simple strings. We need timestamps in this project to test one of our hypotheses. Don't worry, we will help you with this. Your current level of knowledge will be sufficient to tackle it.\n",
    "\n",
    "For example, let's say we have two timestamps: dt1 = “12:00:00” and dt2 = “06:00:00:00”. We want to compare these two timestamps and see which one is later.\n",
    "\n",
    "We can compare them using the standard comparison operators (<, >, <=, >=, == and !=). For example:\n"
   ]
  },
  {
   "cell_type": "code",
   "execution_count": 5,
   "metadata": {},
   "outputs": [
    {
     "name": "stdout",
     "output_type": "stream",
     "text": [
      "Timestamp 1 is later.\n"
     ]
    }
   ],
   "source": [
    "# Compare datetime objects\n",
    "\n",
    "dt1 = '12:00:00'\n",
    "dt2 = '06:00:00'\n",
    "\n",
    "if dt1 < dt2:\n",
    "    print('Time stamp 2 is later')\n",
    "else:\n",
    "    print('Timestamp 1 is later.')"
   ]
  }
 ],
 "metadata": {
  "kernelspec": {
   "display_name": "Python 3",
   "language": "python",
   "name": "python3"
  },
  "language_info": {
   "codemirror_mode": {
    "name": "ipython",
    "version": 3
   },
   "file_extension": ".py",
   "mimetype": "text/x-python",
   "name": "python",
   "nbconvert_exporter": "python",
   "pygments_lexer": "ipython3",
   "version": "3.12.0"
  }
 },
 "nbformat": 4,
 "nbformat_minor": 2
}
